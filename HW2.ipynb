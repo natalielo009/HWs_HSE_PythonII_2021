{
 "cells": [
  {
   "cell_type": "markdown",
   "metadata": {},
   "source": [
    "## 1. Introduction\n",
    "This HW represents a research on pratactical constructions in Russian newspaper language (because RNC is annoyingly stupid these days)."
   ]
  },
  {
   "cell_type": "code",
   "execution_count": 8,
   "metadata": {},
   "outputs": [],
   "source": [
    "#import packages\n",
    "import spacy\n",
    "import scipy\n",
    "from string import punctuation\n",
    "import pymorphy2\n",
    "import sqlite3\n",
    "import pandas as pd\n",
    "import re\n",
    "import matplotlib.pyplot as plt\n",
    "%matplotlib inline\n",
    "import seaborn as sns\n",
    "import random\n",
    "random.seed = 23"
   ]
  },
  {
   "cell_type": "code",
   "execution_count": 10,
   "metadata": {},
   "outputs": [],
   "source": [
    "nlp = spacy.load(\"ru_core_news_sm\")"
   ]
  },
  {
   "cell_type": "code",
   "execution_count": 11,
   "metadata": {},
   "outputs": [],
   "source": [
    "from pymorphy2 import MorphAnalyzer\n",
    "morph = MorphAnalyzer()"
   ]
  },
  {
   "cell_type": "code",
   "execution_count": 12,
   "metadata": {},
   "outputs": [],
   "source": [
    "def tokenize(s):\n",
    "    words = ''\n",
    "    p = list(punctuation)\n",
    "    for i in range(len(s)):\n",
    "        if s[i] in p:\n",
    "            continue\n",
    "        words = words + s[i]\n",
    "    phrase = str(words)\n",
    "    spltd = phrase.split()\n",
    "    return spltd"
   ]
  },
  {
   "cell_type": "markdown",
   "metadata": {},
   "source": [
    "## 2. Data and preprocessing"
   ]
  },
  {
   "cell_type": "markdown",
   "metadata": {},
   "source": [
    "File *data_par.txt* contains aa collection of not annotated (raw) texts from the Taiga corpus (Fontanka subcorpus, 2003-2007)."
   ]
  },
  {
   "cell_type": "code",
   "execution_count": 13,
   "metadata": {},
   "outputs": [],
   "source": [
    "with open('data_par.txt', encoding = 'utf-8') as f:\n",
    "    text = f.read()"
   ]
  },
  {
   "cell_type": "code",
   "execution_count": 14,
   "metadata": {},
   "outputs": [],
   "source": [
    "lines = text.splitlines() "
   ]
  },
  {
   "cell_type": "markdown",
   "metadata": {},
   "source": [
    "Let us do the preprocessing. Moreover, with the help of spacy package lets collect all the sentences that illustrate instances of parataxis."
   ]
  },
  {
   "cell_type": "code",
   "execution_count": 15,
   "metadata": {},
   "outputs": [],
   "source": [
    "with_par = []\n",
    "for l in lines:\n",
    "    line = ' '.join(tokenize(l))\n",
    "    d = nlp(line)\n",
    "    for token in d:\n",
    "        dep = token.dep_\n",
    "        if dep == \"parataxis\":\n",
    "            with_par.append(line)"
   ]
  },
  {
   "cell_type": "markdown",
   "metadata": {},
   "source": [
    "Next, I collect information on the heads in paratactical constructions (including morphological analysis) and their immediate and second-order dependants. "
   ]
  },
  {
   "cell_type": "code",
   "execution_count": 16,
   "metadata": {},
   "outputs": [],
   "source": [
    "paratax0 = {}\n",
    "for wp in with_par:\n",
    "    d = nlp(wp)\n",
    "    for token in d:\n",
    "        dep = token.dep_\n",
    "        if dep == \"parataxis\":\n",
    "            tok = token.text\n",
    "            lemm = token.lemma_\n",
    "            pos = token.pos_\n",
    "            ana = morph.parse(tok)\n",
    "            tag = ana[0].tag\n",
    "            children = [child for child in token.children]\n",
    "            for c in children:\n",
    "                if c.is_ancestor:\n",
    "                    grandchildren = list(c.children)\n",
    "            paratax0[tok] = [lemm, pos, tag, children, grandchildren]"
   ]
  },
  {
   "cell_type": "markdown",
   "metadata": {},
   "source": [
    "To proceed further, I calculate number of children and grandchildren in each construction."
   ]
  },
  {
   "cell_type": "code",
   "execution_count": 18,
   "metadata": {},
   "outputs": [],
   "source": [
    "num_children = []\n",
    "num_grandchildren = []\n",
    "for i in range(len(paratax0)):\n",
    "    key = list(paratax0.keys())[i]\n",
    "    values = list(paratax0[key])\n",
    "    chil = len(values[3])\n",
    "    num_children.append(chil)\n",
    "    granch = len(values[4])\n",
    "    num_grandchildren.append(granch)"
   ]
  },
  {
   "cell_type": "markdown",
   "metadata": {},
   "source": [
    "## 3. Database creation"
   ]
  },
  {
   "cell_type": "code",
   "execution_count": 19,
   "metadata": {},
   "outputs": [],
   "source": [
    "conn = sqlite3.connect('parataxis.db')"
   ]
  },
  {
   "cell_type": "code",
   "execution_count": 20,
   "metadata": {},
   "outputs": [],
   "source": [
    "c = conn.cursor()"
   ]
  },
  {
   "cell_type": "markdown",
   "metadata": {},
   "source": [
    "The first table in my database contains information on heads: head token, head lemma, part of speech of the head, a detailed morphological analysis, number it's syntactic children and grandchildren."
   ]
  },
  {
   "cell_type": "code",
   "execution_count": 21,
   "metadata": {},
   "outputs": [
    {
     "data": {
      "text/plain": [
       "<sqlite3.Cursor at 0x22fbc4bfc00>"
      ]
     },
     "execution_count": 21,
     "metadata": {},
     "output_type": "execute_result"
    }
   ],
   "source": [
    "c.execute(\"CREATE TABLE IF NOT EXISTS parataxis_1(id integer PRIMARY KEY, head text, lemma text, POS text, morp_analys txt, children integer, grand_children integer)\")"
   ]
  },
  {
   "cell_type": "code",
   "execution_count": 22,
   "metadata": {},
   "outputs": [],
   "source": [
    "for p in range(len(paratax0)):\n",
    "    x = p\n",
    "    y = list(paratax0.keys())[p]\n",
    "    z = list(paratax0[y])[0]\n",
    "    n = list(paratax0[y])[1]\n",
    "    m = str(list(paratax0 [y])[2])\n",
    "    j = num_children[p]\n",
    "    q = num_grandchildren[p]\n",
    "    c.execute('INSERT INTO parataxis_1 VALUES (?, ?, ?, ?, ?, ?, ?)', (x, y, z, n, m, j, q))\n",
    "conn.commit()"
   ]
  },
  {
   "cell_type": "markdown",
   "metadata": {},
   "source": [
    "Let us have an overview of the table."
   ]
  },
  {
   "cell_type": "code",
   "execution_count": null,
   "metadata": {},
   "outputs": [],
   "source": [
    "for row in c.execute('SELECT * FROM parataxis_1'):\n",
    "    print(row)"
   ]
  },
  {
   "cell_type": "markdown",
   "metadata": {},
   "source": [
    "Second table of the database represents information on children. Mainly -- on the tokens."
   ]
  },
  {
   "cell_type": "code",
   "execution_count": 25,
   "metadata": {},
   "outputs": [
    {
     "data": {
      "text/plain": [
       "<sqlite3.Cursor at 0x22fbc4bfc00>"
      ]
     },
     "execution_count": 25,
     "metadata": {},
     "output_type": "execute_result"
    }
   ],
   "source": [
    "c.execute(\"CREATE TABLE IF NOT EXISTS childs(id_child integer, num_child integer, child text)\")"
   ]
  },
  {
   "cell_type": "code",
   "execution_count": 27,
   "metadata": {},
   "outputs": [],
   "source": [
    "for p in range(len(paratax0)):\n",
    "    x = p\n",
    "    y = list(paratax0.keys())[p]\n",
    "    z = list(paratax0[y])[3]\n",
    "    for i in range(len(z)):\n",
    "            n = str(z[i])\n",
    "            order = i+1\n",
    "            c.execute('INSERT INTO childs VALUES (?, ?, ?)', (x, order, n))"
   ]
  },
  {
   "cell_type": "code",
   "execution_count": null,
   "metadata": {},
   "outputs": [],
   "source": [
    "for row in c.execute('SELECT * FROM childs'):\n",
    "    print(row)"
   ]
  },
  {
   "cell_type": "markdown",
   "metadata": {},
   "source": [
    "Third table overviews grandchildren."
   ]
  },
  {
   "cell_type": "code",
   "execution_count": 30,
   "metadata": {},
   "outputs": [
    {
     "data": {
      "text/plain": [
       "<sqlite3.Cursor at 0x22fbc4bfc00>"
      ]
     },
     "execution_count": 30,
     "metadata": {},
     "output_type": "execute_result"
    }
   ],
   "source": [
    "c.execute(\"CREATE TABLE IF NOT EXISTS grandchilds(id_grandchild integer, num_grandchild integer, grandchild text)\")"
   ]
  },
  {
   "cell_type": "code",
   "execution_count": 31,
   "metadata": {},
   "outputs": [],
   "source": [
    "for p in range(len(paratax0)):\n",
    "    x = p\n",
    "    y = list(paratax0.keys())[p]\n",
    "    z = list(paratax0[y])[4]\n",
    "    for i in range(len(z)):\n",
    "            n = str(z[i])\n",
    "            order = i+1\n",
    "            c.execute('INSERT INTO grandchilds VALUES (?, ?, ?)', (x, order, n))"
   ]
  },
  {
   "cell_type": "code",
   "execution_count": null,
   "metadata": {},
   "outputs": [],
   "source": [
    "for row in c.execute('SELECT * FROM grandchilds'):\n",
    "    print(row)"
   ]
  },
  {
   "cell_type": "markdown",
   "metadata": {},
   "source": [
    "## 4. Data exploration"
   ]
  },
  {
   "cell_type": "markdown",
   "metadata": {},
   "source": [
    "In this section I will explore my data and give it a statistical descriptive analysis with the help of pandas."
   ]
  },
  {
   "cell_type": "code",
   "execution_count": 21,
   "metadata": {},
   "outputs": [],
   "source": [
    "parataxis_query = \"\"\"SELECT * \n",
    "FROM parataxis_1\"\"\""
   ]
  },
  {
   "cell_type": "code",
   "execution_count": 22,
   "metadata": {},
   "outputs": [
    {
     "data": {
      "text/html": [
       "<div>\n",
       "<style scoped>\n",
       "    .dataframe tbody tr th:only-of-type {\n",
       "        vertical-align: middle;\n",
       "    }\n",
       "\n",
       "    .dataframe tbody tr th {\n",
       "        vertical-align: top;\n",
       "    }\n",
       "\n",
       "    .dataframe thead th {\n",
       "        text-align: right;\n",
       "    }\n",
       "</style>\n",
       "<table border=\"1\" class=\"dataframe\">\n",
       "  <thead>\n",
       "    <tr style=\"text-align: right;\">\n",
       "      <th></th>\n",
       "      <th>id</th>\n",
       "      <th>head</th>\n",
       "      <th>lemma</th>\n",
       "      <th>POS</th>\n",
       "      <th>morp_analys</th>\n",
       "      <th>children</th>\n",
       "      <th>grand_children</th>\n",
       "    </tr>\n",
       "  </thead>\n",
       "  <tbody>\n",
       "    <tr>\n",
       "      <th>0</th>\n",
       "      <td>0</td>\n",
       "      <td>передает</td>\n",
       "      <td>передавать</td>\n",
       "      <td>VERB</td>\n",
       "      <td>VERB,impf,tran sing,3per,pres,indc</td>\n",
       "      <td>1</td>\n",
       "      <td>0</td>\n",
       "    </tr>\n",
       "    <tr>\n",
       "      <th>1</th>\n",
       "      <td>1</td>\n",
       "      <td>сообщает</td>\n",
       "      <td>сообщать</td>\n",
       "      <td>VERB</td>\n",
       "      <td>VERB,impf,tran sing,3per,pres,indc</td>\n",
       "      <td>4</td>\n",
       "      <td>2</td>\n",
       "    </tr>\n",
       "    <tr>\n",
       "      <th>2</th>\n",
       "      <td>2</td>\n",
       "      <td>сказал</td>\n",
       "      <td>сказать</td>\n",
       "      <td>VERB</td>\n",
       "      <td>VERB,perf,tran masc,sing,past,indc</td>\n",
       "      <td>2</td>\n",
       "      <td>1</td>\n",
       "    </tr>\n",
       "    <tr>\n",
       "      <th>3</th>\n",
       "      <td>3</td>\n",
       "      <td>словам</td>\n",
       "      <td>слово</td>\n",
       "      <td>NOUN</td>\n",
       "      <td>NOUN,inan,neut plur,datv</td>\n",
       "      <td>2</td>\n",
       "      <td>1</td>\n",
       "    </tr>\n",
       "    <tr>\n",
       "      <th>4</th>\n",
       "      <td>4</td>\n",
       "      <td>стало</td>\n",
       "      <td>стать</td>\n",
       "      <td>VERB</td>\n",
       "      <td>VERB,perf,intr neut,sing,past,indc</td>\n",
       "      <td>2</td>\n",
       "      <td>1</td>\n",
       "    </tr>\n",
       "    <tr>\n",
       "      <th>...</th>\n",
       "      <td>...</td>\n",
       "      <td>...</td>\n",
       "      <td>...</td>\n",
       "      <td>...</td>\n",
       "      <td>...</td>\n",
       "      <td>...</td>\n",
       "      <td>...</td>\n",
       "    </tr>\n",
       "    <tr>\n",
       "      <th>385</th>\n",
       "      <td>385</td>\n",
       "      <td>возможны</td>\n",
       "      <td>возможный</td>\n",
       "      <td>ADJ</td>\n",
       "      <td>ADJS,Qual plur</td>\n",
       "      <td>2</td>\n",
       "      <td>0</td>\n",
       "    </tr>\n",
       "    <tr>\n",
       "      <th>386</th>\n",
       "      <td>386</td>\n",
       "      <td>имевших</td>\n",
       "      <td>иметь</td>\n",
       "      <td>VERB</td>\n",
       "      <td>PRTF,impf,tran,past,actv plur,gent</td>\n",
       "      <td>4</td>\n",
       "      <td>2</td>\n",
       "    </tr>\n",
       "    <tr>\n",
       "      <th>387</th>\n",
       "      <td>387</td>\n",
       "      <td>совершил</td>\n",
       "      <td>совершить</td>\n",
       "      <td>VERB</td>\n",
       "      <td>VERB,perf,tran masc,sing,past,indc</td>\n",
       "      <td>5</td>\n",
       "      <td>2</td>\n",
       "    </tr>\n",
       "    <tr>\n",
       "      <th>388</th>\n",
       "      <td>388</td>\n",
       "      <td>занял</td>\n",
       "      <td>занять</td>\n",
       "      <td>VERB</td>\n",
       "      <td>VERB,perf,tran masc,sing,past,indc</td>\n",
       "      <td>3</td>\n",
       "      <td>1</td>\n",
       "    </tr>\n",
       "    <tr>\n",
       "      <th>389</th>\n",
       "      <td>389</td>\n",
       "      <td>сообщению</td>\n",
       "      <td>сообщение</td>\n",
       "      <td>NOUN</td>\n",
       "      <td>NOUN,inan,neut sing,datv</td>\n",
       "      <td>2</td>\n",
       "      <td>1</td>\n",
       "    </tr>\n",
       "  </tbody>\n",
       "</table>\n",
       "<p>390 rows × 7 columns</p>\n",
       "</div>"
      ],
      "text/plain": [
       "      id       head       lemma   POS                         morp_analys  \\\n",
       "0      0   передает  передавать  VERB  VERB,impf,tran sing,3per,pres,indc   \n",
       "1      1   сообщает    сообщать  VERB  VERB,impf,tran sing,3per,pres,indc   \n",
       "2      2     сказал     сказать  VERB  VERB,perf,tran masc,sing,past,indc   \n",
       "3      3     словам       слово  NOUN            NOUN,inan,neut plur,datv   \n",
       "4      4      стало       стать  VERB  VERB,perf,intr neut,sing,past,indc   \n",
       "..   ...        ...         ...   ...                                 ...   \n",
       "385  385   возможны   возможный   ADJ                      ADJS,Qual plur   \n",
       "386  386    имевших       иметь  VERB  PRTF,impf,tran,past,actv plur,gent   \n",
       "387  387   совершил   совершить  VERB  VERB,perf,tran masc,sing,past,indc   \n",
       "388  388      занял      занять  VERB  VERB,perf,tran masc,sing,past,indc   \n",
       "389  389  сообщению   сообщение  NOUN            NOUN,inan,neut sing,datv   \n",
       "\n",
       "     children  grand_children  \n",
       "0           1               0  \n",
       "1           4               2  \n",
       "2           2               1  \n",
       "3           2               1  \n",
       "4           2               1  \n",
       "..        ...             ...  \n",
       "385         2               0  \n",
       "386         4               2  \n",
       "387         5               2  \n",
       "388         3               1  \n",
       "389         2               1  \n",
       "\n",
       "[390 rows x 7 columns]"
      ]
     },
     "execution_count": 22,
     "metadata": {},
     "output_type": "execute_result"
    }
   ],
   "source": [
    "df_paratax = pd.read_sql_query(parataxis_query, con=conn)\n",
    "df_paratax"
   ]
  },
  {
   "cell_type": "markdown",
   "metadata": {},
   "source": [
    "Let us add another column in the given dataset. This column gives information on the number of words in a pratactical construction."
   ]
  },
  {
   "cell_type": "code",
   "execution_count": 23,
   "metadata": {},
   "outputs": [
    {
     "data": {
      "text/html": [
       "<div>\n",
       "<style scoped>\n",
       "    .dataframe tbody tr th:only-of-type {\n",
       "        vertical-align: middle;\n",
       "    }\n",
       "\n",
       "    .dataframe tbody tr th {\n",
       "        vertical-align: top;\n",
       "    }\n",
       "\n",
       "    .dataframe thead th {\n",
       "        text-align: right;\n",
       "    }\n",
       "</style>\n",
       "<table border=\"1\" class=\"dataframe\">\n",
       "  <thead>\n",
       "    <tr style=\"text-align: right;\">\n",
       "      <th></th>\n",
       "      <th>id</th>\n",
       "      <th>head</th>\n",
       "      <th>lemma</th>\n",
       "      <th>POS</th>\n",
       "      <th>morp_analys</th>\n",
       "      <th>children</th>\n",
       "      <th>grand_children</th>\n",
       "      <th>number_words</th>\n",
       "    </tr>\n",
       "  </thead>\n",
       "  <tbody>\n",
       "    <tr>\n",
       "      <th>0</th>\n",
       "      <td>0</td>\n",
       "      <td>передает</td>\n",
       "      <td>передавать</td>\n",
       "      <td>VERB</td>\n",
       "      <td>VERB,impf,tran sing,3per,pres,indc</td>\n",
       "      <td>1</td>\n",
       "      <td>0</td>\n",
       "      <td>2</td>\n",
       "    </tr>\n",
       "    <tr>\n",
       "      <th>1</th>\n",
       "      <td>1</td>\n",
       "      <td>сообщает</td>\n",
       "      <td>сообщать</td>\n",
       "      <td>VERB</td>\n",
       "      <td>VERB,impf,tran sing,3per,pres,indc</td>\n",
       "      <td>4</td>\n",
       "      <td>2</td>\n",
       "      <td>7</td>\n",
       "    </tr>\n",
       "    <tr>\n",
       "      <th>2</th>\n",
       "      <td>2</td>\n",
       "      <td>сказал</td>\n",
       "      <td>сказать</td>\n",
       "      <td>VERB</td>\n",
       "      <td>VERB,perf,tran masc,sing,past,indc</td>\n",
       "      <td>2</td>\n",
       "      <td>1</td>\n",
       "      <td>4</td>\n",
       "    </tr>\n",
       "    <tr>\n",
       "      <th>3</th>\n",
       "      <td>3</td>\n",
       "      <td>словам</td>\n",
       "      <td>слово</td>\n",
       "      <td>NOUN</td>\n",
       "      <td>NOUN,inan,neut plur,datv</td>\n",
       "      <td>2</td>\n",
       "      <td>1</td>\n",
       "      <td>4</td>\n",
       "    </tr>\n",
       "    <tr>\n",
       "      <th>4</th>\n",
       "      <td>4</td>\n",
       "      <td>стало</td>\n",
       "      <td>стать</td>\n",
       "      <td>VERB</td>\n",
       "      <td>VERB,perf,intr neut,sing,past,indc</td>\n",
       "      <td>2</td>\n",
       "      <td>1</td>\n",
       "      <td>4</td>\n",
       "    </tr>\n",
       "    <tr>\n",
       "      <th>...</th>\n",
       "      <td>...</td>\n",
       "      <td>...</td>\n",
       "      <td>...</td>\n",
       "      <td>...</td>\n",
       "      <td>...</td>\n",
       "      <td>...</td>\n",
       "      <td>...</td>\n",
       "      <td>...</td>\n",
       "    </tr>\n",
       "    <tr>\n",
       "      <th>385</th>\n",
       "      <td>385</td>\n",
       "      <td>возможны</td>\n",
       "      <td>возможный</td>\n",
       "      <td>ADJ</td>\n",
       "      <td>ADJS,Qual plur</td>\n",
       "      <td>2</td>\n",
       "      <td>0</td>\n",
       "      <td>3</td>\n",
       "    </tr>\n",
       "    <tr>\n",
       "      <th>386</th>\n",
       "      <td>386</td>\n",
       "      <td>имевших</td>\n",
       "      <td>иметь</td>\n",
       "      <td>VERB</td>\n",
       "      <td>PRTF,impf,tran,past,actv plur,gent</td>\n",
       "      <td>4</td>\n",
       "      <td>2</td>\n",
       "      <td>7</td>\n",
       "    </tr>\n",
       "    <tr>\n",
       "      <th>387</th>\n",
       "      <td>387</td>\n",
       "      <td>совершил</td>\n",
       "      <td>совершить</td>\n",
       "      <td>VERB</td>\n",
       "      <td>VERB,perf,tran masc,sing,past,indc</td>\n",
       "      <td>5</td>\n",
       "      <td>2</td>\n",
       "      <td>8</td>\n",
       "    </tr>\n",
       "    <tr>\n",
       "      <th>388</th>\n",
       "      <td>388</td>\n",
       "      <td>занял</td>\n",
       "      <td>занять</td>\n",
       "      <td>VERB</td>\n",
       "      <td>VERB,perf,tran masc,sing,past,indc</td>\n",
       "      <td>3</td>\n",
       "      <td>1</td>\n",
       "      <td>5</td>\n",
       "    </tr>\n",
       "    <tr>\n",
       "      <th>389</th>\n",
       "      <td>389</td>\n",
       "      <td>сообщению</td>\n",
       "      <td>сообщение</td>\n",
       "      <td>NOUN</td>\n",
       "      <td>NOUN,inan,neut sing,datv</td>\n",
       "      <td>2</td>\n",
       "      <td>1</td>\n",
       "      <td>4</td>\n",
       "    </tr>\n",
       "  </tbody>\n",
       "</table>\n",
       "<p>390 rows × 8 columns</p>\n",
       "</div>"
      ],
      "text/plain": [
       "      id       head       lemma   POS                         morp_analys  \\\n",
       "0      0   передает  передавать  VERB  VERB,impf,tran sing,3per,pres,indc   \n",
       "1      1   сообщает    сообщать  VERB  VERB,impf,tran sing,3per,pres,indc   \n",
       "2      2     сказал     сказать  VERB  VERB,perf,tran masc,sing,past,indc   \n",
       "3      3     словам       слово  NOUN            NOUN,inan,neut plur,datv   \n",
       "4      4      стало       стать  VERB  VERB,perf,intr neut,sing,past,indc   \n",
       "..   ...        ...         ...   ...                                 ...   \n",
       "385  385   возможны   возможный   ADJ                      ADJS,Qual plur   \n",
       "386  386    имевших       иметь  VERB  PRTF,impf,tran,past,actv plur,gent   \n",
       "387  387   совершил   совершить  VERB  VERB,perf,tran masc,sing,past,indc   \n",
       "388  388      занял      занять  VERB  VERB,perf,tran masc,sing,past,indc   \n",
       "389  389  сообщению   сообщение  NOUN            NOUN,inan,neut sing,datv   \n",
       "\n",
       "     children  grand_children  number_words  \n",
       "0           1               0             2  \n",
       "1           4               2             7  \n",
       "2           2               1             4  \n",
       "3           2               1             4  \n",
       "4           2               1             4  \n",
       "..        ...             ...           ...  \n",
       "385         2               0             3  \n",
       "386         4               2             7  \n",
       "387         5               2             8  \n",
       "388         3               1             5  \n",
       "389         2               1             4  \n",
       "\n",
       "[390 rows x 8 columns]"
      ]
     },
     "execution_count": 23,
     "metadata": {},
     "output_type": "execute_result"
    }
   ],
   "source": [
    "df_paratax[\"number_words\"] = df_paratax[\"children\"] +  df_paratax[\"grand_children\"] +1\n",
    "df_paratax"
   ]
  },
  {
   "cell_type": "markdown",
   "metadata": {},
   "source": [
    "As we can suggest from the data above, there are a lot of examples of paratactical constructions with verbal heads. Let us check what time dimension is more often used in paratexis -- present or past. "
   ]
  },
  {
   "cell_type": "code",
   "execution_count": 24,
   "metadata": {},
   "outputs": [],
   "source": [
    "def infl(text):\n",
    "    if re.search('pres', text):\n",
    "        tense = \"present\"\n",
    "    else:\n",
    "        if re.search('past', text):\n",
    "            tense =\"past\"\n",
    "        else:\n",
    "            tense = \"NA\"\n",
    "    return tense"
   ]
  },
  {
   "cell_type": "code",
   "execution_count": 25,
   "metadata": {},
   "outputs": [
    {
     "data": {
      "text/plain": [
       "past       153\n",
       "NA         148\n",
       "present     89\n",
       "Name: morp_analys, dtype: int64"
      ]
     },
     "execution_count": 25,
     "metadata": {},
     "output_type": "execute_result"
    }
   ],
   "source": [
    "df_paratax[\"morp_analys\"].apply(infl).value_counts()"
   ]
  },
  {
   "cell_type": "markdown",
   "metadata": {},
   "source": [
    "As can be seen from the table above, past tense is a more common tense form in parataxis. This is logical, since parataxis often gives source of information (smth that was said or written before)."
   ]
  },
  {
   "cell_type": "markdown",
   "metadata": {},
   "source": [
    "Let us find the longest paratactical construction in words."
   ]
  },
  {
   "cell_type": "code",
   "execution_count": 26,
   "metadata": {},
   "outputs": [
    {
     "data": {
      "text/html": [
       "<div>\n",
       "<style scoped>\n",
       "    .dataframe tbody tr th:only-of-type {\n",
       "        vertical-align: middle;\n",
       "    }\n",
       "\n",
       "    .dataframe tbody tr th {\n",
       "        vertical-align: top;\n",
       "    }\n",
       "\n",
       "    .dataframe thead th {\n",
       "        text-align: right;\n",
       "    }\n",
       "</style>\n",
       "<table border=\"1\" class=\"dataframe\">\n",
       "  <thead>\n",
       "    <tr style=\"text-align: right;\">\n",
       "      <th></th>\n",
       "      <th>id</th>\n",
       "      <th>head</th>\n",
       "      <th>lemma</th>\n",
       "      <th>POS</th>\n",
       "      <th>morp_analys</th>\n",
       "      <th>children</th>\n",
       "      <th>grand_children</th>\n",
       "      <th>number_words</th>\n",
       "    </tr>\n",
       "  </thead>\n",
       "  <tbody>\n",
       "    <tr>\n",
       "      <th>160</th>\n",
       "      <td>160</td>\n",
       "      <td>ловил</td>\n",
       "      <td>ловить</td>\n",
       "      <td>VERB</td>\n",
       "      <td>VERB,impf,tran masc,sing,past,indc</td>\n",
       "      <td>12</td>\n",
       "      <td>4</td>\n",
       "      <td>17</td>\n",
       "    </tr>\n",
       "    <tr>\n",
       "      <th>292</th>\n",
       "      <td>292</td>\n",
       "      <td>сняли</td>\n",
       "      <td>снять</td>\n",
       "      <td>VERB</td>\n",
       "      <td>VERB,perf,tran plur,past,indc</td>\n",
       "      <td>5</td>\n",
       "      <td>5</td>\n",
       "      <td>11</td>\n",
       "    </tr>\n",
       "    <tr>\n",
       "      <th>351</th>\n",
       "      <td>351</td>\n",
       "      <td>ожидал</td>\n",
       "      <td>ожидать</td>\n",
       "      <td>VERB</td>\n",
       "      <td>VERB,impf,tran masc,sing,past,indc</td>\n",
       "      <td>4</td>\n",
       "      <td>6</td>\n",
       "      <td>11</td>\n",
       "    </tr>\n",
       "    <tr>\n",
       "      <th>45</th>\n",
       "      <td>45</td>\n",
       "      <td>догадаетесь</td>\n",
       "      <td>догадаетесь</td>\n",
       "      <td>VERB</td>\n",
       "      <td>VERB,perf,intr plur,2per,futr,indc</td>\n",
       "      <td>4</td>\n",
       "      <td>6</td>\n",
       "      <td>11</td>\n",
       "    </tr>\n",
       "    <tr>\n",
       "      <th>54</th>\n",
       "      <td>54</td>\n",
       "      <td>дают</td>\n",
       "      <td>давать</td>\n",
       "      <td>VERB</td>\n",
       "      <td>VERB,impf,tran plur,3per,pres,indc</td>\n",
       "      <td>7</td>\n",
       "      <td>3</td>\n",
       "      <td>11</td>\n",
       "    </tr>\n",
       "    <tr>\n",
       "      <th>...</th>\n",
       "      <td>...</td>\n",
       "      <td>...</td>\n",
       "      <td>...</td>\n",
       "      <td>...</td>\n",
       "      <td>...</td>\n",
       "      <td>...</td>\n",
       "      <td>...</td>\n",
       "      <td>...</td>\n",
       "    </tr>\n",
       "    <tr>\n",
       "      <th>100</th>\n",
       "      <td>100</td>\n",
       "      <td>3</td>\n",
       "      <td>3</td>\n",
       "      <td>NUM</td>\n",
       "      <td>NUMB,intg</td>\n",
       "      <td>0</td>\n",
       "      <td>0</td>\n",
       "      <td>1</td>\n",
       "    </tr>\n",
       "    <tr>\n",
       "      <th>272</th>\n",
       "      <td>272</td>\n",
       "      <td>закладываются</td>\n",
       "      <td>закладываться</td>\n",
       "      <td>VERB</td>\n",
       "      <td>VERB,impf,intr plur,3per,pres,indc</td>\n",
       "      <td>0</td>\n",
       "      <td>0</td>\n",
       "      <td>1</td>\n",
       "    </tr>\n",
       "    <tr>\n",
       "      <th>285</th>\n",
       "      <td>285</td>\n",
       "      <td>25</td>\n",
       "      <td>25</td>\n",
       "      <td>NUM</td>\n",
       "      <td>NUMB,intg</td>\n",
       "      <td>0</td>\n",
       "      <td>0</td>\n",
       "      <td>1</td>\n",
       "    </tr>\n",
       "    <tr>\n",
       "      <th>307</th>\n",
       "      <td>307</td>\n",
       "      <td>1621</td>\n",
       "      <td>1621</td>\n",
       "      <td>NUM</td>\n",
       "      <td>NUMB,intg</td>\n",
       "      <td>0</td>\n",
       "      <td>0</td>\n",
       "      <td>1</td>\n",
       "    </tr>\n",
       "    <tr>\n",
       "      <th>146</th>\n",
       "      <td>146</td>\n",
       "      <td>пояснил</td>\n",
       "      <td>пояснить</td>\n",
       "      <td>VERB</td>\n",
       "      <td>VERB,perf,tran masc,sing,past,indc</td>\n",
       "      <td>0</td>\n",
       "      <td>0</td>\n",
       "      <td>1</td>\n",
       "    </tr>\n",
       "  </tbody>\n",
       "</table>\n",
       "<p>390 rows × 8 columns</p>\n",
       "</div>"
      ],
      "text/plain": [
       "      id           head          lemma   POS  \\\n",
       "160  160          ловил         ловить  VERB   \n",
       "292  292          сняли          снять  VERB   \n",
       "351  351         ожидал        ожидать  VERB   \n",
       "45    45    догадаетесь    догадаетесь  VERB   \n",
       "54    54           дают         давать  VERB   \n",
       "..   ...            ...            ...   ...   \n",
       "100  100              3              3   NUM   \n",
       "272  272  закладываются  закладываться  VERB   \n",
       "285  285             25             25   NUM   \n",
       "307  307           1621           1621   NUM   \n",
       "146  146        пояснил       пояснить  VERB   \n",
       "\n",
       "                            morp_analys  children  grand_children  \\\n",
       "160  VERB,impf,tran masc,sing,past,indc        12               4   \n",
       "292       VERB,perf,tran plur,past,indc         5               5   \n",
       "351  VERB,impf,tran masc,sing,past,indc         4               6   \n",
       "45   VERB,perf,intr plur,2per,futr,indc         4               6   \n",
       "54   VERB,impf,tran plur,3per,pres,indc         7               3   \n",
       "..                                  ...       ...             ...   \n",
       "100                           NUMB,intg         0               0   \n",
       "272  VERB,impf,intr plur,3per,pres,indc         0               0   \n",
       "285                           NUMB,intg         0               0   \n",
       "307                           NUMB,intg         0               0   \n",
       "146  VERB,perf,tran masc,sing,past,indc         0               0   \n",
       "\n",
       "     number_words  \n",
       "160            17  \n",
       "292            11  \n",
       "351            11  \n",
       "45             11  \n",
       "54             11  \n",
       "..            ...  \n",
       "100             1  \n",
       "272             1  \n",
       "285             1  \n",
       "307             1  \n",
       "146             1  \n",
       "\n",
       "[390 rows x 8 columns]"
      ]
     },
     "execution_count": 26,
     "metadata": {},
     "output_type": "execute_result"
    }
   ],
   "source": [
    "df_paratax.sort_values(by=\"number_words\", ascending=False)"
   ]
  },
  {
   "cell_type": "markdown",
   "metadata": {},
   "source": [
    "The answer is 17."
   ]
  },
  {
   "cell_type": "markdown",
   "metadata": {},
   "source": [
    "Let us do the same but this time only for constructions that have nouns as their heads."
   ]
  },
  {
   "cell_type": "code",
   "execution_count": 27,
   "metadata": {},
   "outputs": [
    {
     "data": {
      "text/html": [
       "<div>\n",
       "<style scoped>\n",
       "    .dataframe tbody tr th:only-of-type {\n",
       "        vertical-align: middle;\n",
       "    }\n",
       "\n",
       "    .dataframe tbody tr th {\n",
       "        vertical-align: top;\n",
       "    }\n",
       "\n",
       "    .dataframe thead th {\n",
       "        text-align: right;\n",
       "    }\n",
       "</style>\n",
       "<table border=\"1\" class=\"dataframe\">\n",
       "  <thead>\n",
       "    <tr style=\"text-align: right;\">\n",
       "      <th></th>\n",
       "      <th>id</th>\n",
       "      <th>head</th>\n",
       "      <th>lemma</th>\n",
       "      <th>POS</th>\n",
       "      <th>morp_analys</th>\n",
       "      <th>children</th>\n",
       "      <th>grand_children</th>\n",
       "      <th>number_words</th>\n",
       "    </tr>\n",
       "  </thead>\n",
       "  <tbody>\n",
       "    <tr>\n",
       "      <th>214</th>\n",
       "      <td>214</td>\n",
       "      <td>парк</td>\n",
       "      <td>парк</td>\n",
       "      <td>NOUN</td>\n",
       "      <td>NOUN,inan,masc sing,nomn</td>\n",
       "      <td>5</td>\n",
       "      <td>5</td>\n",
       "      <td>11</td>\n",
       "    </tr>\n",
       "    <tr>\n",
       "      <th>233</th>\n",
       "      <td>233</td>\n",
       "      <td>Парком</td>\n",
       "      <td>парк</td>\n",
       "      <td>NOUN</td>\n",
       "      <td>NOUN,inan,masc sing,ablt</td>\n",
       "      <td>5</td>\n",
       "      <td>3</td>\n",
       "      <td>9</td>\n",
       "    </tr>\n",
       "    <tr>\n",
       "      <th>151</th>\n",
       "      <td>151</td>\n",
       "      <td>окраинах</td>\n",
       "      <td>окраина</td>\n",
       "      <td>NOUN</td>\n",
       "      <td>NOUN,inan,femn plur,loct</td>\n",
       "      <td>4</td>\n",
       "      <td>3</td>\n",
       "      <td>8</td>\n",
       "    </tr>\n",
       "    <tr>\n",
       "      <th>336</th>\n",
       "      <td>336</td>\n",
       "      <td>рейтинг</td>\n",
       "      <td>рейтинг</td>\n",
       "      <td>NOUN</td>\n",
       "      <td>NOUN,inan,masc sing,accs</td>\n",
       "      <td>4</td>\n",
       "      <td>3</td>\n",
       "      <td>8</td>\n",
       "    </tr>\n",
       "    <tr>\n",
       "      <th>91</th>\n",
       "      <td>91</td>\n",
       "      <td>кризис</td>\n",
       "      <td>кризис</td>\n",
       "      <td>NOUN</td>\n",
       "      <td>NOUN,inan,masc sing,nomn</td>\n",
       "      <td>3</td>\n",
       "      <td>3</td>\n",
       "      <td>7</td>\n",
       "    </tr>\n",
       "    <tr>\n",
       "      <th>...</th>\n",
       "      <td>...</td>\n",
       "      <td>...</td>\n",
       "      <td>...</td>\n",
       "      <td>...</td>\n",
       "      <td>...</td>\n",
       "      <td>...</td>\n",
       "      <td>...</td>\n",
       "      <td>...</td>\n",
       "    </tr>\n",
       "    <tr>\n",
       "      <th>204</th>\n",
       "      <td>204</td>\n",
       "      <td>стокгольме</td>\n",
       "      <td>стокгольм</td>\n",
       "      <td>NOUN</td>\n",
       "      <td>NOUN,inan,masc,Geox sing,loct</td>\n",
       "      <td>2</td>\n",
       "      <td>0</td>\n",
       "      <td>3</td>\n",
       "    </tr>\n",
       "    <tr>\n",
       "      <th>271</th>\n",
       "      <td>271</td>\n",
       "      <td>бросание</td>\n",
       "      <td>бросание</td>\n",
       "      <td>NOUN</td>\n",
       "      <td>NOUN,inan,neut sing,nomn</td>\n",
       "      <td>1</td>\n",
       "      <td>0</td>\n",
       "      <td>2</td>\n",
       "    </tr>\n",
       "    <tr>\n",
       "      <th>44</th>\n",
       "      <td>44</td>\n",
       "      <td>дело</td>\n",
       "      <td>дело</td>\n",
       "      <td>NOUN</td>\n",
       "      <td>NOUN,inan,neut sing,nomn</td>\n",
       "      <td>1</td>\n",
       "      <td>0</td>\n",
       "      <td>2</td>\n",
       "    </tr>\n",
       "    <tr>\n",
       "      <th>326</th>\n",
       "      <td>326</td>\n",
       "      <td>сведениям</td>\n",
       "      <td>сведение</td>\n",
       "      <td>NOUN</td>\n",
       "      <td>NOUN,inan,neut plur,datv</td>\n",
       "      <td>1</td>\n",
       "      <td>0</td>\n",
       "      <td>2</td>\n",
       "    </tr>\n",
       "    <tr>\n",
       "      <th>235</th>\n",
       "      <td>235</td>\n",
       "      <td>правда</td>\n",
       "      <td>правда</td>\n",
       "      <td>NOUN</td>\n",
       "      <td>PRCL</td>\n",
       "      <td>1</td>\n",
       "      <td>0</td>\n",
       "      <td>2</td>\n",
       "    </tr>\n",
       "  </tbody>\n",
       "</table>\n",
       "<p>63 rows × 8 columns</p>\n",
       "</div>"
      ],
      "text/plain": [
       "      id        head      lemma   POS                    morp_analys  \\\n",
       "214  214        парк       парк  NOUN       NOUN,inan,masc sing,nomn   \n",
       "233  233      Парком       парк  NOUN       NOUN,inan,masc sing,ablt   \n",
       "151  151    окраинах    окраина  NOUN       NOUN,inan,femn plur,loct   \n",
       "336  336     рейтинг    рейтинг  NOUN       NOUN,inan,masc sing,accs   \n",
       "91    91      кризис     кризис  NOUN       NOUN,inan,masc sing,nomn   \n",
       "..   ...         ...        ...   ...                            ...   \n",
       "204  204  стокгольме  стокгольм  NOUN  NOUN,inan,masc,Geox sing,loct   \n",
       "271  271    бросание   бросание  NOUN       NOUN,inan,neut sing,nomn   \n",
       "44    44        дело       дело  NOUN       NOUN,inan,neut sing,nomn   \n",
       "326  326   сведениям   сведение  NOUN       NOUN,inan,neut plur,datv   \n",
       "235  235      правда     правда  NOUN                           PRCL   \n",
       "\n",
       "     children  grand_children  number_words  \n",
       "214         5               5            11  \n",
       "233         5               3             9  \n",
       "151         4               3             8  \n",
       "336         4               3             8  \n",
       "91          3               3             7  \n",
       "..        ...             ...           ...  \n",
       "204         2               0             3  \n",
       "271         1               0             2  \n",
       "44          1               0             2  \n",
       "326         1               0             2  \n",
       "235         1               0             2  \n",
       "\n",
       "[63 rows x 8 columns]"
      ]
     },
     "execution_count": 27,
     "metadata": {},
     "output_type": "execute_result"
    }
   ],
   "source": [
    "df_paratax[df_paratax[\"POS\"] == \"NOUN\"].sort_values(by=\"number_words\", ascending=False)"
   ]
  },
  {
   "cell_type": "markdown",
   "metadata": {},
   "source": [
    "The answer is 11."
   ]
  },
  {
   "cell_type": "markdown",
   "metadata": {},
   "source": [
    "## 5. Visualizations"
   ]
  },
  {
   "cell_type": "markdown",
   "metadata": {},
   "source": [
    "It makes sense to explore the frequences of different parts of speech in head position in parataxis. This can be done with the help of pie-chart."
   ]
  },
  {
   "cell_type": "code",
   "execution_count": 73,
   "metadata": {},
   "outputs": [
    {
     "data": {
      "image/png": "[encoded data removed]",
      "text/plain": [
       "<Figure size 432x432 with 1 Axes>"
      ]
     },
     "metadata": {},
     "output_type": "display_data"
    }
   ],
   "source": [
    "plt.figure(figsize=(6, 6))\n",
    "df_paratax['POS'].value_counts().plot(kind='pie');\n",
    "plt.title('Part of speech');"
   ]
  },
  {
   "cell_type": "markdown",
   "metadata": {},
   "source": [
    "Verbs constitute the majority of paratactical heads."
   ]
  },
  {
   "cell_type": "markdown",
   "metadata": {},
   "source": [
    "Now let us visualize distribution of the amount of children."
   ]
  },
  {
   "cell_type": "code",
   "execution_count": 71,
   "metadata": {},
   "outputs": [
    {
     "data": {
      "text/plain": [
       "<matplotlib.axes._subplots.AxesSubplot at 0x22fc7cf12e0>"
      ]
     },
     "execution_count": 71,
     "metadata": {},
     "output_type": "execute_result"
    },
    {
     "data": {
      "image/png": "[encoded data removed]",
      "text/plain": [
       "<Figure size 432x288 with 1 Axes>"
      ]
     },
     "metadata": {
      "needs_background": "light"
     },
     "output_type": "display_data"
    }
   ],
   "source": [
    "df_paratax['children'].value_counts().plot.bar(color='lightblue')"
   ]
  },
  {
   "cell_type": "markdown",
   "metadata": {},
   "source": [
    "As can be seen in the picture, most of the examples of parataxis had 2 entities on the second syntactic level."
   ]
  },
  {
   "cell_type": "markdown",
   "metadata": {},
   "source": [
    "For the grandchildren the picture is different."
   ]
  },
  {
   "cell_type": "code",
   "execution_count": 70,
   "metadata": {},
   "outputs": [
    {
     "data": {
      "text/plain": [
       "<matplotlib.axes._subplots.AxesSubplot at 0x22fc7bb17f0>"
      ]
     },
     "execution_count": 70,
     "metadata": {},
     "output_type": "execute_result"
    },
    {
     "data": {
      "image/png": "[encoded data removed]",
      "text/plain": [
       "<Figure size 432x288 with 1 Axes>"
      ]
     },
     "metadata": {
      "needs_background": "light"
     },
     "output_type": "display_data"
    }
   ],
   "source": [
    "df_paratax['grand_children'].value_counts().plot.bar(color='lightblue')"
   ]
  },
  {
   "cell_type": "markdown",
   "metadata": {},
   "source": [
    "In most of the constructions there was only one entity on the third syntactic level. This suggests that paratactical constructions usually are not syntactically deep and rich."
   ]
  },
  {
   "cell_type": "markdown",
   "metadata": {},
   "source": [
    "Let us find how the number of children was different among the heads with different POS fearutes."
   ]
  },
  {
   "cell_type": "code",
   "execution_count": 29,
   "metadata": {},
   "outputs": [],
   "source": [
    "df_paratax2 = df_paratax[[\"POS\", 'children']] \n",
    "df_paratax3 = df_paratax2.groupby(\"POS\", as_index=False).agg({\"children\": \"mean\"})"
   ]
  },
  {
   "cell_type": "code",
   "execution_count": 103,
   "metadata": {},
   "outputs": [
    {
     "data": {
      "text/html": [
       "<div>\n",
       "<style scoped>\n",
       "    .dataframe tbody tr th:only-of-type {\n",
       "        vertical-align: middle;\n",
       "    }\n",
       "\n",
       "    .dataframe tbody tr th {\n",
       "        vertical-align: top;\n",
       "    }\n",
       "\n",
       "    .dataframe thead th {\n",
       "        text-align: right;\n",
       "    }\n",
       "</style>\n",
       "<table border=\"1\" class=\"dataframe\">\n",
       "  <thead>\n",
       "    <tr style=\"text-align: right;\">\n",
       "      <th></th>\n",
       "      <th>POS</th>\n",
       "      <th>children</th>\n",
       "    </tr>\n",
       "  </thead>\n",
       "  <tbody>\n",
       "    <tr>\n",
       "      <th>0</th>\n",
       "      <td>ADJ</td>\n",
       "      <td>2.137931</td>\n",
       "    </tr>\n",
       "    <tr>\n",
       "      <th>1</th>\n",
       "      <td>ADV</td>\n",
       "      <td>1.777778</td>\n",
       "    </tr>\n",
       "    <tr>\n",
       "      <th>2</th>\n",
       "      <td>NOUN</td>\n",
       "      <td>2.873016</td>\n",
       "    </tr>\n",
       "    <tr>\n",
       "      <th>3</th>\n",
       "      <td>NUM</td>\n",
       "      <td>0.857143</td>\n",
       "    </tr>\n",
       "    <tr>\n",
       "      <th>4</th>\n",
       "      <td>PRON</td>\n",
       "      <td>2.333333</td>\n",
       "    </tr>\n",
       "    <tr>\n",
       "      <th>5</th>\n",
       "      <td>PROPN</td>\n",
       "      <td>3.000000</td>\n",
       "    </tr>\n",
       "    <tr>\n",
       "      <th>6</th>\n",
       "      <td>VERB</td>\n",
       "      <td>3.063433</td>\n",
       "    </tr>\n",
       "  </tbody>\n",
       "</table>\n",
       "</div>"
      ],
      "text/plain": [
       "     POS  children\n",
       "0    ADJ  2.137931\n",
       "1    ADV  1.777778\n",
       "2   NOUN  2.873016\n",
       "3    NUM  0.857143\n",
       "4   PRON  2.333333\n",
       "5  PROPN  3.000000\n",
       "6   VERB  3.063433"
      ]
     },
     "execution_count": 103,
     "metadata": {},
     "output_type": "execute_result"
    }
   ],
   "source": [
    "df_paratax3"
   ]
  },
  {
   "cell_type": "code",
   "execution_count": 107,
   "metadata": {},
   "outputs": [
    {
     "data": {
      "image/png": "[encoded data removed]",
      "text/plain": [
       "<Figure size 720x432 with 1 Axes>"
      ]
     },
     "metadata": {
      "needs_background": "light"
     },
     "output_type": "display_data"
    }
   ],
   "source": [
    "plt.figure(figsize=(10, 6))\n",
    "sns.boxplot(x=\"POS\", y=\"children\", data=df_paratax2)\n",
    "plt.ylim((0, 10))\n",
    "plt.title('N of chilfren by POS')\n",
    "plt.ylabel('n children')\n",
    "plt.xlabel('POS');"
   ]
  },
  {
   "cell_type": "markdown",
   "metadata": {},
   "source": [
    "## 6. Statistics"
   ]
  },
  {
   "cell_type": "markdown",
   "metadata": {},
   "source": [
    "Let us check if the difference observed between the nubmer of syntactic children held by verbs and nouns is statistically significant with the help of the t-test."
   ]
  },
  {
   "cell_type": "code",
   "execution_count": 35,
   "metadata": {},
   "outputs": [],
   "source": [
    "x = list(df_paratax2[df_paratax2[\"POS\"] == \"VERB\"][\"children\"])\n",
    "y = list(df_paratax2[df_paratax2[\"POS\"] == \"NOUN\"][\"children\"])"
   ]
  },
  {
   "cell_type": "code",
   "execution_count": 34,
   "metadata": {},
   "outputs": [
    {
     "data": {
      "text/plain": [
       "Ttest_indResult(statistic=-0.9947706744106909, pvalue=0.3205788751671245)"
      ]
     },
     "execution_count": 34,
     "metadata": {},
     "output_type": "execute_result"
    }
   ],
   "source": [
    "scipy.stats.ttest_ind(y, x)"
   ]
  },
  {
   "cell_type": "markdown",
   "metadata": {},
   "source": [
    "As can be concluded by the obtained p-value, there is no singificant difference between the number of immediate dependents of verbal and nominal heads in paratactical constructions in Russian newspaper text."
   ]
  },
  {
   "cell_type": "markdown",
   "metadata": {},
   "source": [
    "## PS"
   ]
  },
  {
   "cell_type": "markdown",
   "metadata": {},
   "source": [
    "For my final project I would like to conduct a similar study but on a more representative material (RNC). The main objective of this study would be to identify classes of paratactical constructions in Russian."
   ]
  },
  {
   "cell_type": "code",
   "execution_count": null,
   "metadata": {},
   "outputs": [],
   "source": []
  }
 ],
 "metadata": {
  "kernelspec": {
   "display_name": "Python 3",
   "language": "python",
   "name": "python3"
  },
  "language_info": {
   "codemirror_mode": {
    "name": "ipython",
    "version": 3
   },
   "file_extension": ".py",
   "mimetype": "text/x-python",
   "name": "python",
   "nbconvert_exporter": "python",
   "pygments_lexer": "ipython3",
   "version": "3.8.3"
  }
 },
 "nbformat": 4,
 "nbformat_minor": 4
}
